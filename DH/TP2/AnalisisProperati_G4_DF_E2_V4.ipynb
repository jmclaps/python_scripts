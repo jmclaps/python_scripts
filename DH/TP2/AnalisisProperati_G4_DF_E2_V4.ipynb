{
 "cells": [
  {
   "cell_type": "markdown",
   "metadata": {},
   "source": [
    "# Analisis DataSet Properati segunda etapa\n",
    "\n",
    "## Modelando con regresion lineal"
   ]
  },
  {
   "cell_type": "code",
   "execution_count": null,
   "metadata": {},
   "outputs": [],
   "source": [
    "import pandas as pd\n",
    "import numpy as np\n",
    "import seaborn as sns\n",
    "import matplotlib.pyplot as plt\n",
    "from sklearn import datasets, linear_model\n",
    "from sklearn.model_selection import train_test_split, KFold, cross_val_score\n",
    "from sklearn.linear_model import LinearRegression, Lasso, LassoCV, Ridge, RidgeCV\n",
    "from sklearn.preprocessing import PolynomialFeatures, StandardScaler, LabelEncoder\n",
    "from sklearn.metrics import r2_score\n",
    "import statsmodels.api as sm"
   ]
  },
  {
   "cell_type": "markdown",
   "metadata": {},
   "source": [
    "   De la etapa anterior de estudio obtenemos un df depurado y enriquecido al cual lo hemos guardado con el nombre de  **df_Properati_primer_limpieza.csv**"
   ]
  },
  {
   "cell_type": "code",
   "execution_count": null,
   "metadata": {},
   "outputs": [],
   "source": [
    "df_properati2= pd.read_csv(\"df_Properati_primer_limpieza.csv\")"
   ]
  },
  {
   "cell_type": "markdown",
   "metadata": {},
   "source": [
    "### Objetivo de esta etapa:\n",
    "Construir un modelo de regresion lineal capaz de predecir el precio por m2 de una propiedad en funcion de una serie de Features en el ambito de la Ciudad Autonoma de Buenos Aires (CABA). Para ello partimos de un DataFrame previamente estudiado y mejorado. En base a dicho analisis descartaremos informacion del mismo que consideramos irrelevante para esta etapa."
   ]
  },
  {
   "cell_type": "code",
   "execution_count": null,
   "metadata": {},
   "outputs": [],
   "source": [
    "#Recordamos las columnas\n",
    "df_properati2.columns"
   ]
  },
  {
   "cell_type": "markdown",
   "metadata": {},
   "source": [
    "Las columnas que eliminaremos en primer lugar son las siguientes                     \n",
    "\n",
    "`'ID','operation','geonames_id','lat-lon', 'lat','lon','floor'\n",
    "'expenses', 'properati_url', 'description', 'title',\n",
    "'image_thumbnail','impRegex'`\n",
    "\n",
    "Estas son eliminadas porque no aportan info al modelo y otras porque ya fueron analizadas y en base a ellas construimos otras columnas que contienen esa informacion relevante."
   ]
  },
  {
   "cell_type": "code",
   "execution_count": null,
   "metadata": {},
   "outputs": [],
   "source": [
    "df_properati2_drop1= df_properati2[['property_type','place_name','place_with_parent_names','country_name',\n",
    "                                    'state_name','price','currency','price_aprox_local_currency','price_aprox_usd',\n",
    "                                    'surface_total_in_m2','surface_covered_in_m2','price_usd_per_m2','price_per_m2',\n",
    "                                    'rooms','priceUSD','priceUSDImp','amenities','piscina',\n",
    "                                    'cochera','a_estrenar']]"
   ]
  },
  {
   "cell_type": "markdown",
   "metadata": {},
   "source": [
    "En lo que refiere a datos de precio tambien podemos eliminar dado que en la etapa anterior se ha trabajado en la homogeneizacion de esta informacion, quedando la columna precio en dolares `'priceUSD'` y `'priceUSDImp'` como unificacion de los valores de los inmuebles. \n",
    "\n",
    "Columnas a eliminar:\n",
    "\n",
    "`'price', 'currency','price_aprox_local_currency', 'price_aprox_usd'`"
   ]
  },
  {
   "cell_type": "code",
   "execution_count": null,
   "metadata": {},
   "outputs": [],
   "source": [
    "df_properati2_drop2= df_properati2_drop1[['property_type','place_name','place_with_parent_names','country_name',\n",
    "                                          'state_name','surface_total_in_m2','surface_covered_in_m2',\n",
    "                                          'price_usd_per_m2','price_per_m2','rooms','priceUSD',\n",
    "                                          'priceUSDImp','amenities','piscina','cochera','a_estrenar']]"
   ]
  },
  {
   "cell_type": "markdown",
   "metadata": {},
   "source": [
    "Si recordamos, el problema ha quedado acotado a CABA por ello podemos reducir aun mas el DataFrame.\n",
    "\n",
    "### Sacamos:\n",
    "\n",
    "`'country_name'` solo tiene valores de Argentina no aporta info de CABA\n",
    "\n",
    "`'place_with_parent_names'` la info que aporta esta contenida en la columna `'place_name'`"
   ]
  },
  {
   "cell_type": "code",
   "execution_count": null,
   "metadata": {},
   "outputs": [],
   "source": [
    "df_properati2_drop3= df_properati2_drop2[['property_type','place_name','state_name',\n",
    "                                          'surface_total_in_m2','surface_covered_in_m2','price_usd_per_m2',\n",
    "                                          'price_per_m2','rooms','priceUSD','priceUSDImp',\n",
    "                                          'amenities','piscina','cochera','a_estrenar']]"
   ]
  },
  {
   "cell_type": "code",
   "execution_count": null,
   "metadata": {},
   "outputs": [],
   "source": [
    "df_properati_limpio_CABA= df_properati2_drop3[df_properati2_drop3.state_name==\"Capital Federal\"]"
   ]
  },
  {
   "cell_type": "code",
   "execution_count": null,
   "metadata": {},
   "outputs": [],
   "source": [
    "df_properati_limpio_CABA"
   ]
  },
  {
   "cell_type": "markdown",
   "metadata": {},
   "source": [
    "Revisamos los nulos"
   ]
  },
  {
   "cell_type": "code",
   "execution_count": null,
   "metadata": {},
   "outputs": [],
   "source": [
    "df_properati_limpio_CABA.isnull().sum()"
   ]
  },
  {
   "cell_type": "code",
   "execution_count": null,
   "metadata": {},
   "outputs": [],
   "source": [
    "df_properati_limpio_CABA.corr()"
   ]
  },
  {
   "cell_type": "markdown",
   "metadata": {},
   "source": [
    "Vemos las correlaciones"
   ]
  },
  {
   "cell_type": "code",
   "execution_count": null,
   "metadata": {},
   "outputs": [],
   "source": [
    "sns.heatmap(df_properati_limpio_CABA.corr(), linewidths=.5, annot=True)"
   ]
  },
  {
   "cell_type": "markdown",
   "metadata": {},
   "source": [
    "Existen valores que llaman la atencion, en muchos casos podemos sospechar que vienen de los outliers y los valores de 1 es porque la info que contienen es practicamente la mismo como es el caso de `priceUSD` y  `priceUSDImp` "
   ]
  },
  {
   "cell_type": "markdown",
   "metadata": {},
   "source": [
    "### Nota:\n",
    "Notamos que existen algunos registros que la variable `place_name` y `state_name` toman el mismo valor, por ello los eliminamos dado que no podemos saber a que barrio de CABA pertenecen."
   ]
  },
  {
   "cell_type": "code",
   "execution_count": null,
   "metadata": {},
   "outputs": [],
   "source": [
    "indice_drop_sbarrio= df_properati_limpio_CABA[df_properati_limpio_CABA.place_name==\"Capital Federal\"].index"
   ]
  },
  {
   "cell_type": "code",
   "execution_count": null,
   "metadata": {},
   "outputs": [],
   "source": [
    "df_properati_limpio2_CABA= df_properati_limpio_CABA.drop(indice_drop_sbarrio, axis=0)"
   ]
  },
  {
   "cell_type": "code",
   "execution_count": null,
   "metadata": {},
   "outputs": [],
   "source": [
    "df_properati_limpio2_CABA.isnull().sum()"
   ]
  },
  {
   "cell_type": "markdown",
   "metadata": {},
   "source": [
    "### Eliminamos los nulos de la columna a predecir  `price_usd_per_m2`"
   ]
  },
  {
   "cell_type": "code",
   "execution_count": null,
   "metadata": {},
   "outputs": [],
   "source": [
    "indice_drop_ppm2dol= df_properati_limpio2_CABA[df_properati_limpio2_CABA.price_usd_per_m2.isnull()].index"
   ]
  },
  {
   "cell_type": "code",
   "execution_count": null,
   "metadata": {},
   "outputs": [],
   "source": [
    "df_properati_limpio3_CABA= df_properati_limpio2_CABA.drop(indice_drop_ppm2dol, axis=0)"
   ]
  },
  {
   "cell_type": "code",
   "execution_count": null,
   "metadata": {},
   "outputs": [],
   "source": [
    "df_properati_limpio3_CABA.isnull().sum()"
   ]
  },
  {
   "cell_type": "code",
   "execution_count": null,
   "metadata": {},
   "outputs": [],
   "source": [
    "df_properati_limpio3_CABA"
   ]
  },
  {
   "cell_type": "code",
   "execution_count": null,
   "metadata": {},
   "outputs": [],
   "source": [
    "sns.heatmap(df_properati_limpio3_CABA[df_properati_limpio3_CABA.surface_total_in_m2<20000].corr(), linewidths=.5, annot=True)"
   ]
  },
  {
   "cell_type": "markdown",
   "metadata": {},
   "source": [
    "#### Nota: Se ve que algunas correlaciones mejoran pero debemos seguir trabajando los datos.\n"
   ]
  },
  {
   "cell_type": "markdown",
   "metadata": {},
   "source": [
    "### Comparamos `surface_covered_in_m2` y  `surface_total_in_m2`"
   ]
  },
  {
   "cell_type": "code",
   "execution_count": null,
   "metadata": {},
   "outputs": [],
   "source": [
    "fig, axs = plt.subplots(ncols=2, figsize=(15,7))\n",
    "sns.scatterplot(x=df_properati_limpio3_CABA[df_properati_limpio3_CABA.surface_covered_in_m2<2000].rooms, y=df_properati_limpio3_CABA.surface_covered_in_m2, hue=df_properati_limpio3_CABA.property_type, ax=axs[0])\n",
    "\n",
    "sns.scatterplot(x=df_properati_limpio3_CABA[df_properati_limpio3_CABA.surface_total_in_m2<25000].rooms, y=df_properati_limpio3_CABA.surface_total_in_m2, hue=df_properati_limpio3_CABA.property_type, ax=axs[1])"
   ]
  },
  {
   "cell_type": "code",
   "execution_count": null,
   "metadata": {},
   "outputs": [],
   "source": [
    "df_properati_limpio3_CABA.columns"
   ]
  },
  {
   "cell_type": "markdown",
   "metadata": {},
   "source": [
    "### Eliminamos \n",
    "\n",
    "`'state_name'` dado que el analisis es en CABA\n",
    "\n",
    "`'surface_covered_in_m2'` esta info esta contenida en `'surface_total_in_m2'`\n",
    "\n",
    "`'price_per_m2'` esta info esta contenida en `'price_usd_per_m2'`\n",
    "\n",
    "`'rooms'` tiene demasiados nulos, consideramos que esta contenida en `'surface_total_in_m2'`, y ademas la corr con `price_usd_per_m2`es casi cero.\n",
    "\n",
    "`'priceUSDImp'` esta info esta contenida en `'priceUSD'`\n"
   ]
  },
  {
   "cell_type": "code",
   "execution_count": null,
   "metadata": {},
   "outputs": [],
   "source": [
    "df_properati_limpio4_CABA= df_properati_limpio3_CABA[['property_type', 'place_name', \n",
    "                                                      'surface_total_in_m2',\n",
    "                                                     'price_usd_per_m2','priceUSD', \n",
    "                                                     'amenities','piscina','cochera','a_estrenar']]"
   ]
  },
  {
   "cell_type": "code",
   "execution_count": null,
   "metadata": {},
   "outputs": [],
   "source": [
    "sns.heatmap(df_properati_limpio4_CABA.corr(), linewidths=.5, annot=True)"
   ]
  },
  {
   "cell_type": "code",
   "execution_count": null,
   "metadata": {},
   "outputs": [],
   "source": [
    "df_properati_limpio4_CABA.isnull().sum()"
   ]
  },
  {
   "cell_type": "code",
   "execution_count": null,
   "metadata": {},
   "outputs": [],
   "source": [
    "df_properati_limpio4_CABA.info()"
   ]
  },
  {
   "cell_type": "code",
   "execution_count": null,
   "metadata": {},
   "outputs": [],
   "source": [
    "df_properati_limpio4_CABA.place_name.value_counts()"
   ]
  },
  {
   "cell_type": "code",
   "execution_count": null,
   "metadata": {},
   "outputs": [],
   "source": [
    "sum(df_properati_limpio4_CABA.place_name.value_counts()>30)"
   ]
  },
  {
   "cell_type": "markdown",
   "metadata": {},
   "source": [
    "### Eliminamos los valores duplicados"
   ]
  },
  {
   "cell_type": "code",
   "execution_count": null,
   "metadata": {},
   "outputs": [],
   "source": [
    "df_properati_limpio4_CABA.duplicated().sum()"
   ]
  },
  {
   "cell_type": "code",
   "execution_count": null,
   "metadata": {},
   "outputs": [],
   "source": [
    "df_properati_limpio4_CABA= df_properati_limpio4_CABA.drop_duplicates()"
   ]
  },
  {
   "cell_type": "code",
   "execution_count": null,
   "metadata": {},
   "outputs": [],
   "source": [
    "df_properati_limpio4_CABA.shape"
   ]
  },
  {
   "cell_type": "markdown",
   "metadata": {},
   "source": [
    "Hasta aqui llegamos con el dataset sin nulls con un shape de (20288, 9)  y con las variables que consideramos relevantes para comenzar a avaluar modelos.\n",
    "\n",
    "`Data columns (total 9 columns):`\n",
    "\n",
    "     `#Column               Non-Null Count  Dtype`  \n",
    " `0   property_type        22603 non-null  object \n",
    "  1   place_name           22603 non-null  object \n",
    "  2   surface_total_in_m2  22603 non-null  float64\n",
    "  3   price_usd_per_m2     22603 non-null  float64\n",
    "  4   priceUSD             22603 non-null  float64\n",
    "  5   amenities            22603 non-null  object \n",
    "  6   piscina              22603 non-null  object \n",
    "  7   cochera              22603 non-null  object \n",
    "  8   a_estrenar           22603 non-null  object`\n"
   ]
  },
  {
   "cell_type": "markdown",
   "metadata": {},
   "source": [
    "### Analisis de la columna `price_usd_per_m2` versus su calculo a partir de `priceUSD`/ `surface_total_in_m2`\n",
    "\n",
    "Vamos a calcularlo en base a los datos de precio total en dolares y superficie total."
   ]
  },
  {
   "cell_type": "code",
   "execution_count": null,
   "metadata": {},
   "outputs": [],
   "source": [
    "precio_m2_dol_calc= df_properati_limpio4_CABA.apply(lambda x: x[\"priceUSD\"]/x[\"surface_total_in_m2\"], axis=1)"
   ]
  },
  {
   "cell_type": "code",
   "execution_count": null,
   "metadata": {},
   "outputs": [],
   "source": [
    "precio_m2_dol_calc.sum()"
   ]
  },
  {
   "cell_type": "code",
   "execution_count": null,
   "metadata": {},
   "outputs": [],
   "source": [
    "df_properati_limpio4_CABA.price_usd_per_m2.sum()"
   ]
  },
  {
   "cell_type": "markdown",
   "metadata": {},
   "source": [
    "Notamos que hay una diferencia entre ambas opciones veamos si es significativa"
   ]
  },
  {
   "cell_type": "code",
   "execution_count": null,
   "metadata": {},
   "outputs": [],
   "source": [
    "diff=abs(precio_m2_dol_calc - df_properati_limpio4_CABA.price_usd_per_m2)"
   ]
  },
  {
   "cell_type": "code",
   "execution_count": null,
   "metadata": {},
   "outputs": [],
   "source": [
    "diff[diff>1].shape[0]/df_properati_limpio4_CABA.shape[0]*100"
   ]
  },
  {
   "cell_type": "code",
   "execution_count": null,
   "metadata": {},
   "outputs": [],
   "source": [
    "diff[diff>1].index.shape[0]"
   ]
  },
  {
   "cell_type": "markdown",
   "metadata": {},
   "source": [
    "La diferencia encontrada es menor al 5%. En valor de registros representan 887. En base a esta info decidimos dejar la columna que viene con el DataSet."
   ]
  },
  {
   "cell_type": "markdown",
   "metadata": {},
   "source": [
    "## Comenzamos a evaluar modelos\n"
   ]
  },
  {
   "cell_type": "markdown",
   "metadata": {},
   "source": [
    "#### Escribimos una funcion que realiza todos los pasos: instancia, splitea, escala, entrena y calcula el R2"
   ]
  },
  {
   "cell_type": "code",
   "execution_count": null,
   "metadata": {},
   "outputs": [],
   "source": [
    "def grupo_4_etapa2(df,var_x,var_y): # var_x es una lista de features y var_y el vector a predecir\n",
    "    \n",
    "    X = df[var_x]\n",
    "    y=  df[var_y]\n",
    "    X_train, X_test, y_train, y_test = train_test_split(X, y, test_size=0.30, random_state=53)\n",
    "    scale          = StandardScaler()\n",
    "    X_train_scaled = scale.fit_transform(X_train) \n",
    "    X_test_scaled  = scale.transform(X_test) \n",
    "    \n",
    "    # les pongo el nombre a las columnas \n",
    "    X_train_scaled =  pd.DataFrame(X_train_scaled,columns=X.columns)\n",
    "    X_test_scaled =  pd.DataFrame(X_test_scaled,columns=X.columns)\n",
    "    \n",
    "    lm = linear_model.LinearRegression()\n",
    "    lm.fit(X_train_scaled,y_train)\n",
    "    r2_test = lm.score(X_test_scaled, y_test)\n",
    "    r2_train= lm.score(X_train_scaled, y_train)\n",
    "    \n",
    "    #print (f\"Las variables X son\", var_x, \", la variable y es\", var_y)\n",
    "    print (\"El R2_test es:\", r2_test )\n",
    "    print (\"El R2_train es:\", r2_train)\n",
    "        \n",
    "    return lm, scale"
   ]
  },
  {
   "cell_type": "markdown",
   "metadata": {},
   "source": [
    "#### Usando las variables numericas aproximamos buscando un valor global de R2 "
   ]
  },
  {
   "cell_type": "code",
   "execution_count": null,
   "metadata": {},
   "outputs": [],
   "source": [
    "lm_limpio4, scale_limpio4 = grupo_4_etapa2(df_properati_limpio4_CABA, ['surface_total_in_m2','priceUSD'],['price_usd_per_m2'] )"
   ]
  },
  {
   "cell_type": "markdown",
   "metadata": {},
   "source": [
    "#### Buscamos Outliers mirando graficos y el DataSet"
   ]
  },
  {
   "cell_type": "code",
   "execution_count": null,
   "metadata": {},
   "outputs": [],
   "source": [
    "sns.distplot(df_properati_limpio4_CABA[df_properati_limpio4_CABA.surface_total_in_m2<500].surface_total_in_m2)"
   ]
  },
  {
   "cell_type": "code",
   "execution_count": null,
   "metadata": {},
   "outputs": [],
   "source": [
    "df_properati_limpio4_CABA[df_properati_limpio4_CABA.surface_total_in_m2<27].shape"
   ]
  },
  {
   "cell_type": "code",
   "execution_count": null,
   "metadata": {},
   "outputs": [],
   "source": [
    "df_properati_limpio4_CABA[df_properati_limpio4_CABA.surface_total_in_m2>500].shape"
   ]
  },
  {
   "cell_type": "code",
   "execution_count": null,
   "metadata": {},
   "outputs": [],
   "source": [
    "sns.distplot(df_properati_limpio4_CABA[df_properati_limpio4_CABA.price_usd_per_m2<6000].price_usd_per_m2)"
   ]
  },
  {
   "cell_type": "code",
   "execution_count": null,
   "metadata": {},
   "outputs": [],
   "source": [
    "df_properati_limpio4_CABA[df_properati_limpio4_CABA.price_usd_per_m2<900]"
   ]
  },
  {
   "cell_type": "code",
   "execution_count": null,
   "metadata": {},
   "outputs": [],
   "source": [
    "sns.scatterplot(x=df_properati_limpio4_CABA.priceUSD[df_properati_limpio4_CABA.priceUSD<1000000], y=df_properati_limpio4_CABA.price_usd_per_m2)"
   ]
  },
  {
   "cell_type": "markdown",
   "metadata": {},
   "source": [
    "### Nota: \n",
    "Se puede observar que existen valores que llamamos outliers para las columnas graficadas o sea las variables `'surface_total_in_m2', 'price_usd_per_m2', 'priceUSD'` tienen valores fuera de rango. Mas adelante en el analisis explicaremos los criterios adoptados para descartarlos en nuestro `DataFrame`\n",
    "\n",
    "En relacion a los valores de `'priceUSD'` no vale la pena detenerse dado que mas adelante aclararemos porque la desestimamos."
   ]
  },
  {
   "cell_type": "markdown",
   "metadata": {},
   "source": [
    "#### Analizamos por barrio"
   ]
  },
  {
   "cell_type": "code",
   "execution_count": null,
   "metadata": {},
   "outputs": [],
   "source": [
    "df_belgrano=df_properati_limpio4_CABA[df_properati_limpio4_CABA.place_name==\"Belgrano\"]\n",
    "df_palermo=df_properati_limpio4_CABA[df_properati_limpio4_CABA.place_name==\"Palermo\"]\n",
    "df_caballito=df_properati_limpio4_CABA[df_properati_limpio4_CABA.place_name==\"Caballito\"]"
   ]
  },
  {
   "cell_type": "code",
   "execution_count": null,
   "metadata": {},
   "outputs": [],
   "source": [
    "lm_belgrano, scaler_belgrano = grupo_4_etapa2(df_belgrano, ['surface_total_in_m2','priceUSD'],['price_usd_per_m2'] )"
   ]
  },
  {
   "cell_type": "code",
   "execution_count": null,
   "metadata": {},
   "outputs": [],
   "source": [
    "lm_palermo, scaler_palermo = grupo_4_etapa2(df_palermo, ['surface_total_in_m2','priceUSD'],['price_usd_per_m2'] )"
   ]
  },
  {
   "cell_type": "code",
   "execution_count": null,
   "metadata": {},
   "outputs": [],
   "source": [
    "lm_caballito, scaler_caballito = grupo_4_etapa2(df_caballito, ['surface_total_in_m2','priceUSD'],['price_usd_per_m2'] )"
   ]
  },
  {
   "cell_type": "markdown",
   "metadata": {},
   "source": [
    "#### Veamos Belgrano"
   ]
  },
  {
   "cell_type": "code",
   "execution_count": null,
   "metadata": {},
   "outputs": [],
   "source": [
    "lm_belgrano_sinprice, scaler_belgrano_sinprice = grupo_4_etapa2(df_belgrano, ['surface_total_in_m2'],['priceUSD'] )"
   ]
  },
  {
   "cell_type": "markdown",
   "metadata": {},
   "source": [
    "Buscamos Outliers"
   ]
  },
  {
   "cell_type": "code",
   "execution_count": null,
   "metadata": {},
   "outputs": [],
   "source": [
    "sns.distplot(df_belgrano[df_belgrano.surface_total_in_m2<400].surface_total_in_m2)"
   ]
  },
  {
   "cell_type": "markdown",
   "metadata": {},
   "source": [
    "Segun la grafica podemos acotar como representativo propiedades de hasta 400m2"
   ]
  },
  {
   "cell_type": "code",
   "execution_count": null,
   "metadata": {},
   "outputs": [],
   "source": [
    "sns.scatterplot(x=df_belgrano.priceUSD, y=df_belgrano.price_usd_per_m2, hue=df_belgrano.property_type)"
   ]
  },
  {
   "cell_type": "code",
   "execution_count": null,
   "metadata": {},
   "outputs": [],
   "source": [
    "sns.scatterplot(x=df_belgrano.surface_total_in_m2[df_belgrano.surface_total_in_m2<1500], y=df_belgrano.price_usd_per_m2, hue=df_belgrano.property_type)"
   ]
  },
  {
   "cell_type": "code",
   "execution_count": null,
   "metadata": {},
   "outputs": [],
   "source": [
    "sns.scatterplot(x=df_caballito.surface_total_in_m2[df_caballito.surface_total_in_m2<1500], y=df_caballito.price_usd_per_m2, hue=df_caballito.property_type)"
   ]
  },
  {
   "cell_type": "code",
   "execution_count": null,
   "metadata": {},
   "outputs": [],
   "source": [
    "df_properati_limpio4_CABA[df_properati_limpio4_CABA.surface_total_in_m2>300]"
   ]
  },
  {
   "cell_type": "code",
   "execution_count": null,
   "metadata": {},
   "outputs": [],
   "source": [
    "df_palermo[df_palermo.surface_total_in_m2>300]"
   ]
  },
  {
   "cell_type": "code",
   "execution_count": null,
   "metadata": {},
   "outputs": [],
   "source": [
    "df_belgrano_sub_ = df_belgrano[df_belgrano.surface_total_in_m2<200]"
   ]
  },
  {
   "cell_type": "code",
   "execution_count": null,
   "metadata": {},
   "outputs": [],
   "source": [
    "lm_belgrano_sub, scaler_belgrano_sub = grupo_4_etapa2(df_belgrano_sub_, ['surface_total_in_m2'],['price_usd_per_m2'] )"
   ]
  },
  {
   "cell_type": "code",
   "execution_count": null,
   "metadata": {},
   "outputs": [],
   "source": [
    "df_properati_limpio4_CABA.property_type.value_counts()"
   ]
  },
  {
   "cell_type": "markdown",
   "metadata": {},
   "source": [
    "#### Analizamos ahora en funcion a la variable `property_type`"
   ]
  },
  {
   "cell_type": "code",
   "execution_count": null,
   "metadata": {},
   "outputs": [],
   "source": [
    "df_apartment = df_properati_limpio4_CABA[df_properati_limpio4_CABA.property_type== \"apartment\"]"
   ]
  },
  {
   "cell_type": "code",
   "execution_count": null,
   "metadata": {},
   "outputs": [],
   "source": [
    "df_PH = df_properati_limpio4_CABA[df_properati_limpio4_CABA.property_type== \"PH\"]"
   ]
  },
  {
   "cell_type": "code",
   "execution_count": null,
   "metadata": {},
   "outputs": [],
   "source": [
    "df_house = df_properati_limpio4_CABA[df_properati_limpio4_CABA.property_type== \"house\"]"
   ]
  },
  {
   "cell_type": "code",
   "execution_count": null,
   "metadata": {},
   "outputs": [],
   "source": [
    "lm_apartment, scaler_apartmen = grupo_4_etapa2(df_apartment, ['surface_total_in_m2'],['price_usd_per_m2'] )"
   ]
  },
  {
   "cell_type": "code",
   "execution_count": null,
   "metadata": {},
   "outputs": [],
   "source": [
    "lm_house, scaler_house = grupo_4_etapa2(df_house, ['surface_total_in_m2'],['price_usd_per_m2'] )"
   ]
  },
  {
   "cell_type": "code",
   "execution_count": null,
   "metadata": {},
   "outputs": [],
   "source": [
    "lm_PH, scaler_PH = grupo_4_etapa2(df_PH, ['surface_total_in_m2'],['price_usd_per_m2'] )"
   ]
  },
  {
   "cell_type": "markdown",
   "metadata": {},
   "source": [
    "### Nota:\n",
    "Luego de haber probado diferentes opciones de modelos segun barrio y segun tipo de propiedad, ahora transformamos las variables categoricas en numericas para poder incluirlas en el modelo de Regrsion Lineal Multiple."
   ]
  },
  {
   "cell_type": "markdown",
   "metadata": {},
   "source": [
    "### Transformamos `'amenities', 'piscina', 'cochera', 'a_estrenar'` en 1 y 0"
   ]
  },
  {
   "cell_type": "code",
   "execution_count": null,
   "metadata": {},
   "outputs": [],
   "source": [
    "df_properati_limpio5_CABA = df_properati_limpio4_CABA.replace({\"amenities\":1, \"piscina\":1, \"cochera\":1, \"a_estrenar\":1, \"False\":0})\n",
    "df_properati_limpio5_CABA"
   ]
  },
  {
   "cell_type": "code",
   "execution_count": null,
   "metadata": {},
   "outputs": [],
   "source": [
    "df_properati_limpio5_CABA.info()"
   ]
  },
  {
   "cell_type": "markdown",
   "metadata": {},
   "source": [
    "### Generamos las Dummys para ` \"property_type\" y \"place_name\"`"
   ]
  },
  {
   "cell_type": "code",
   "execution_count": null,
   "metadata": {},
   "outputs": [],
   "source": [
    "property_type_dummies = pd.get_dummies(df_properati_limpio5_CABA.property_type, drop_first=True)\n",
    "property_type_dummies"
   ]
  },
  {
   "cell_type": "code",
   "execution_count": null,
   "metadata": {
    "scrolled": true
   },
   "outputs": [],
   "source": [
    "place_name_dummies = pd.get_dummies(df_properati_limpio5_CABA.place_name, drop_first=True)"
   ]
  },
  {
   "cell_type": "code",
   "execution_count": null,
   "metadata": {},
   "outputs": [],
   "source": [
    "place_name_dummies"
   ]
  },
  {
   "cell_type": "markdown",
   "metadata": {},
   "source": [
    "\n",
    "#### Unimos ambos df"
   ]
  },
  {
   "cell_type": "code",
   "execution_count": null,
   "metadata": {},
   "outputs": [],
   "source": [
    "df_properati_limpio5_CABA_con_dummys  = pd.concat([df_properati_limpio5_CABA, property_type_dummies, place_name_dummies], axis = 1)"
   ]
  },
  {
   "cell_type": "code",
   "execution_count": null,
   "metadata": {},
   "outputs": [],
   "source": [
    "df_properati_limpio5_CABA_con_dummys"
   ]
  },
  {
   "cell_type": "code",
   "execution_count": null,
   "metadata": {},
   "outputs": [],
   "source": [
    "df_properati_limpio5_CABA_con_dummys.info()"
   ]
  },
  {
   "cell_type": "code",
   "execution_count": null,
   "metadata": {},
   "outputs": [],
   "source": [
    "df_properati_limpio5_CABA_con_dummys.columns"
   ]
  },
  {
   "cell_type": "markdown",
   "metadata": {},
   "source": [
    "#### Calculamos el R2 de Train y Test del `DataFrame` con 20288 filas y 72 columnas"
   ]
  },
  {
   "cell_type": "code",
   "execution_count": null,
   "metadata": {
    "scrolled": true
   },
   "outputs": [],
   "source": [
    "lm_limpio5_condummys, scaler_limpio5condummys = grupo_4_etapa2(df_properati_limpio5_CABA_con_dummys,['surface_total_in_m2','amenities', 'piscina', 'cochera',\n",
    "       'a_estrenar', 'apartment', 'house', 'store', 'Agronomía', 'Almagro',\n",
    "       'Balvanera', 'Barracas', 'Barrio Norte', 'Belgrano', 'Boca', 'Boedo',\n",
    "       'Caballito', 'Catalinas', 'Centro / Microcentro', 'Chacarita',\n",
    "       'Coghlan', 'Colegiales', 'Congreso', 'Constitución', 'Flores',\n",
    "       'Floresta', 'Las Cañitas', 'Liniers', 'Mataderos', 'Monserrat',\n",
    "       'Monte Castro', 'Nuñez', 'Once', 'Palermo', 'Palermo Chico',\n",
    "       'Palermo Hollywood', 'Palermo Soho', 'Palermo Viejo',\n",
    "       'Parque Avellaneda', 'Parque Centenario', 'Parque Chacabuco',\n",
    "       'Parque Chas', 'Parque Patricios', 'Paternal', 'Pompeya',\n",
    "       'Puerto Madero', 'Recoleta', 'Retiro', 'Saavedra', 'San Cristobal',\n",
    "       'San Nicolás', 'San Telmo', 'Tribunales', 'Velez Sarsfield',\n",
    "       'Versalles', 'Villa Crespo', 'Villa Devoto', 'Villa General Mitre',\n",
    "       'Villa Lugano', 'Villa Luro', 'Villa Ortuzar', 'Villa Pueyrredón',\n",
    "       'Villa Real', 'Villa Riachuelo', 'Villa Santa Rita', 'Villa Soldati',\n",
    "       'Villa Urquiza', 'Villa del Parque'], ['price_usd_per_m2'] )"
   ]
  },
  {
   "cell_type": "markdown",
   "metadata": {},
   "source": [
    "**Notese que los valores de  R2 que obtuvimos son muy malos. La diferencia entre el de train y de test podria estar mostrando un posible sobreajuste.** \n",
    "\n",
    "### Como primer camino volveremos a la tarea de limpieza del DataSet para ver si mejoran nuestros R2"
   ]
  },
  {
   "cell_type": "markdown",
   "metadata": {},
   "source": [
    "Veamos los boxplot de superficie y de precio por metro buscando outliers"
   ]
  },
  {
   "cell_type": "code",
   "execution_count": null,
   "metadata": {},
   "outputs": [],
   "source": [
    "fig, axs = plt.subplots(ncols=2, figsize=(30,10))\n",
    "sns.boxplot(x=df_properati_limpio5_CABA_con_dummys.surface_total_in_m2, ax=axs[0])\n",
    "sns.boxplot(x=df_properati_limpio5_CABA_con_dummys.price_usd_per_m2, ax=axs[1])"
   ]
  },
  {
   "cell_type": "markdown",
   "metadata": {},
   "source": [
    "Horribles, trabajemos sobres eso."
   ]
  },
  {
   "cell_type": "markdown",
   "metadata": {},
   "source": [
    "### Feature `'surface_total_in_m2'`\n",
    "\n",
    "En la etapa anterior vimos que teniamos outliers en la columna `'surface_total_in_m2'` tanto por exceso como por defecto.\n",
    "Tomemos un criterio para determinar ambos limites.\n",
    "En el caso del minimo segun lo visto por el reglamento de construccion de CABA para el periodo en analisis vimos que no esta permitido construir propiedades menores a **27m2**(ver1) de superficie. Y el limite superiro si bien puede ser un poco arbitrario nos parecio un criterio logico establecerlo en **10000m2.** dado que casi no hay observaciones.\n",
    "\n",
    "ver1: https://www.infobae.com/politica/2018/09/06/la-legislatura-portena-avanzo-en-la-reforma-de-los-codigos-de-planeamiento-urbano-y-de-edificacion/\n",
    "\n"
   ]
  },
  {
   "cell_type": "code",
   "execution_count": null,
   "metadata": {},
   "outputs": [],
   "source": [
    "indice_drop_sup_min= df_properati_limpio5_CABA_con_dummys[df_properati_limpio5_CABA_con_dummys.surface_total_in_m2<27].index"
   ]
  },
  {
   "cell_type": "code",
   "execution_count": null,
   "metadata": {},
   "outputs": [],
   "source": [
    "df_properati_limpio6_CABA_con_dummys= df_properati_limpio5_CABA_con_dummys.drop(indice_drop_sup_min ,axis=0)"
   ]
  },
  {
   "cell_type": "code",
   "execution_count": null,
   "metadata": {},
   "outputs": [],
   "source": [
    "df_properati_limpio6_CABA_con_dummys.shape"
   ]
  },
  {
   "cell_type": "code",
   "execution_count": null,
   "metadata": {},
   "outputs": [],
   "source": [
    "indice_drop_sup_max= df_properati_limpio6_CABA_con_dummys[df_properati_limpio6_CABA_con_dummys.surface_total_in_m2>10000].index"
   ]
  },
  {
   "cell_type": "code",
   "execution_count": null,
   "metadata": {},
   "outputs": [],
   "source": [
    "df_properati_limpio7_CABA_con_dummys= df_properati_limpio6_CABA_con_dummys.drop(indice_drop_sup_max ,axis=0)"
   ]
  },
  {
   "cell_type": "code",
   "execution_count": null,
   "metadata": {},
   "outputs": [],
   "source": [
    "df_properati_limpio7_CABA_con_dummys.shape"
   ]
  },
  {
   "cell_type": "code",
   "execution_count": null,
   "metadata": {},
   "outputs": [],
   "source": [
    "lm_limpio7_condummys, scaler_limpio7_condummys = grupo_4_etapa2(df_properati_limpio7_CABA_con_dummys,['surface_total_in_m2','amenities', 'piscina', 'cochera',\n",
    "       'a_estrenar', 'apartment', 'house', 'store', 'Agronomía', 'Almagro',\n",
    "       'Balvanera', 'Barracas', 'Barrio Norte', 'Belgrano', 'Boca', 'Boedo',\n",
    "       'Caballito', 'Catalinas', 'Centro / Microcentro', 'Chacarita',\n",
    "       'Coghlan', 'Colegiales', 'Congreso', 'Constitución', 'Flores',\n",
    "       'Floresta', 'Las Cañitas', 'Liniers', 'Mataderos', 'Monserrat',\n",
    "       'Monte Castro', 'Nuñez', 'Once', 'Palermo', 'Palermo Chico',\n",
    "       'Palermo Hollywood', 'Palermo Soho', 'Palermo Viejo',\n",
    "       'Parque Avellaneda', 'Parque Centenario', 'Parque Chacabuco',\n",
    "       'Parque Chas', 'Parque Patricios', 'Paternal', 'Pompeya',\n",
    "       'Puerto Madero', 'Recoleta', 'Retiro', 'Saavedra', 'San Cristobal',\n",
    "       'San Nicolás', 'San Telmo', 'Tribunales', 'Velez Sarsfield',\n",
    "       'Versalles', 'Villa Crespo', 'Villa Devoto', 'Villa General Mitre',\n",
    "       'Villa Lugano', 'Villa Luro', 'Villa Ortuzar', 'Villa Pueyrredón',\n",
    "       'Villa Real', 'Villa Riachuelo', 'Villa Santa Rita', 'Villa Soldati',\n",
    "       'Villa Urquiza', 'Villa del Parque'], ['price_usd_per_m2'] )"
   ]
  },
  {
   "cell_type": "markdown",
   "metadata": {},
   "source": [
    "Vemos que limpiando los outliers de la columna `'surface_total_in_m2'` se produce una mejora en la relacion entre train y test pero aun sigue siendo bajo el R2 de ambos. Trabajemos ahora con el Feature `'price_usd_per_m2'`"
   ]
  },
  {
   "cell_type": "markdown",
   "metadata": {},
   "source": [
    "### Feature `'price_usd_per_m2'`\n",
    "\n",
    "Anteriormente vimos que teniamos outliers en la columna `'price_usd_per_m2'` tanto por exceso como por defecto.\n",
    "Tomemos un criterio para determinar ambos limites.\n",
    "En el caso del minimo segun lo visto en publicaiones sobre el mercado de propiedades de CABA podemos establecer que para el periodo en analisis no encontramos valores de esta variable inferiores a **900 uSs/m2.** En referencia al limite superior y efectuando el mismo analisis podemos establecer que buscando la zona mas cara vemos que no se supera el valor de **6000 uSs/m2** \n",
    "\n",
    "ver: http://www.maureinmobiliaria.com/metro-cuadrado/\n"
   ]
  },
  {
   "cell_type": "code",
   "execution_count": null,
   "metadata": {},
   "outputs": [],
   "source": [
    "indice_drop_price_m2_min= df_properati_limpio7_CABA_con_dummys[df_properati_limpio7_CABA_con_dummys.price_usd_per_m2>6000].index"
   ]
  },
  {
   "cell_type": "code",
   "execution_count": null,
   "metadata": {},
   "outputs": [],
   "source": [
    "df_properati_limpio8_CABA_con_dummys= df_properati_limpio7_CABA_con_dummys.drop(indice_drop_price_m2_min ,axis=0)"
   ]
  },
  {
   "cell_type": "code",
   "execution_count": null,
   "metadata": {},
   "outputs": [],
   "source": [
    "df_properati_limpio8_CABA_con_dummys.shape"
   ]
  },
  {
   "cell_type": "code",
   "execution_count": null,
   "metadata": {},
   "outputs": [],
   "source": [
    "indice_drop_price_m2_max= df_properati_limpio8_CABA_con_dummys[df_properati_limpio8_CABA_con_dummys.price_usd_per_m2<900].index"
   ]
  },
  {
   "cell_type": "code",
   "execution_count": null,
   "metadata": {},
   "outputs": [],
   "source": [
    "df_properati_limpio9_CABA_con_dummys= df_properati_limpio8_CABA_con_dummys.drop(indice_drop_price_m2_max ,axis=0)"
   ]
  },
  {
   "cell_type": "code",
   "execution_count": null,
   "metadata": {},
   "outputs": [],
   "source": [
    "df_properati_limpio9_CABA_con_dummys.shape"
   ]
  },
  {
   "cell_type": "markdown",
   "metadata": {},
   "source": [
    "#### Resumen criterio para descartar Outliers\n",
    "\n",
    "`surface_total_in_m2`\n",
    "\n",
    "                419 row por sup_m2<27\n",
    "\n",
    "                2 row por sup_m2>10000\n",
    "\n",
    "`price_usd_per_m2`\n",
    "\n",
    "                955 row por precio_m2>6000\n",
    "\n",
    "                383 row por precio_m2<900\n",
    "\n",
    "#### *Total de observaciones descartadas 1759row*\n",
    "\n"
   ]
  },
  {
   "cell_type": "markdown",
   "metadata": {},
   "source": [
    "Vemos como quedaron los boxplot ahora"
   ]
  },
  {
   "cell_type": "code",
   "execution_count": null,
   "metadata": {},
   "outputs": [],
   "source": [
    "fig, axs = plt.subplots(ncols=2, figsize=(30,10))\n",
    "sns.boxplot(x=df_properati_limpio9_CABA_con_dummys[df_properati_limpio9_CABA_con_dummys.surface_total_in_m2<10000].surface_total_in_m2, ax=axs[0])\n",
    "sns.boxplot(x=df_properati_limpio9_CABA_con_dummys.price_usd_per_m2, ax=axs[1])"
   ]
  },
  {
   "cell_type": "markdown",
   "metadata": {},
   "source": [
    "**Notese** que en superficie podes eliminar algunos valores mas pero no afectan a nuestro R2. Por el momento los dejamos."
   ]
  },
  {
   "cell_type": "markdown",
   "metadata": {},
   "source": [
    "### Recalculamos los R2"
   ]
  },
  {
   "cell_type": "code",
   "execution_count": null,
   "metadata": {},
   "outputs": [],
   "source": [
    "lm_limpio9_condummys, scaler_limpio9_condummys = grupo_4_etapa2(df_properati_limpio9_CABA_con_dummys,['surface_total_in_m2', 'amenities', 'piscina', 'cochera',\n",
    "       'a_estrenar', 'apartment', 'house', 'store', 'Agronomía', 'Almagro',\n",
    "       'Balvanera', 'Barracas', 'Barrio Norte', 'Belgrano', 'Boca', 'Boedo',\n",
    "       'Caballito', 'Catalinas', 'Centro / Microcentro', 'Chacarita',\n",
    "       'Coghlan', 'Colegiales', 'Congreso', 'Constitución', 'Flores',\n",
    "       'Floresta', 'Las Cañitas', 'Liniers', 'Mataderos', 'Monserrat',\n",
    "       'Monte Castro', 'Nuñez', 'Once', 'Palermo', 'Palermo Chico',\n",
    "       'Palermo Hollywood', 'Palermo Soho', 'Palermo Viejo',\n",
    "       'Parque Avellaneda', 'Parque Centenario', 'Parque Chacabuco',\n",
    "       'Parque Chas', 'Parque Patricios', 'Paternal', 'Pompeya',\n",
    "       'Puerto Madero', 'Recoleta', 'Retiro', 'Saavedra', 'San Cristobal',\n",
    "       'San Nicolás', 'San Telmo', 'Tribunales', 'Velez Sarsfield',\n",
    "       'Versalles', 'Villa Crespo', 'Villa Devoto', 'Villa General Mitre',\n",
    "       'Villa Lugano', 'Villa Luro', 'Villa Ortuzar', 'Villa Pueyrredón',\n",
    "       'Villa Real', 'Villa Riachuelo', 'Villa Santa Rita', 'Villa Soldati',\n",
    "       'Villa Urquiza', 'Villa del Parque'], ['price_usd_per_m2'] )"
   ]
  },
  {
   "cell_type": "code",
   "execution_count": null,
   "metadata": {},
   "outputs": [],
   "source": [
    "df = df_properati_limpio9_CABA_con_dummys.copy()\n",
    "var_x = ['surface_total_in_m2', 'amenities', 'piscina', 'cochera',\n",
    "       'a_estrenar', 'apartment', 'house', 'store', 'Agronomía', 'Almagro',\n",
    "       'Balvanera', 'Barracas', 'Barrio Norte', 'Belgrano', 'Boca', 'Boedo',\n",
    "       'Caballito', 'Catalinas', 'Centro / Microcentro', 'Chacarita',\n",
    "       'Coghlan', 'Colegiales', 'Congreso', 'Constitución', 'Flores',\n",
    "       'Floresta', 'Las Cañitas', 'Liniers', 'Mataderos', 'Monserrat',\n",
    "       'Monte Castro', 'Nuñez', 'Once', 'Palermo', 'Palermo Chico',\n",
    "       'Palermo Hollywood', 'Palermo Soho', 'Palermo Viejo',\n",
    "       'Parque Avellaneda', 'Parque Centenario', 'Parque Chacabuco',\n",
    "       'Parque Chas', 'Parque Patricios', 'Paternal', 'Pompeya',\n",
    "       'Puerto Madero', 'Recoleta', 'Retiro', 'Saavedra', 'San Cristobal',\n",
    "       'San Nicolás', 'San Telmo', 'Tribunales', 'Velez Sarsfield',\n",
    "       'Versalles', 'Villa Crespo', 'Villa Devoto', 'Villa General Mitre',\n",
    "       'Villa Lugano', 'Villa Luro', 'Villa Ortuzar', 'Villa Pueyrredón',\n",
    "       'Villa Real', 'Villa Riachuelo', 'Villa Santa Rita', 'Villa Soldati',\n",
    "       'Villa Urquiza', 'Villa del Parque']\n",
    "var_y = ['price_usd_per_m2']\n",
    "\n",
    "X = df[var_x]\n",
    "y=  df[var_y]\n",
    "\n",
    "X_train, X_test, y_train, y_test = train_test_split(X, y, test_size=0.30, random_state=53)\n",
    "\n",
    "X_train_scaled = scaler_limpio9_condummys.transform(X_train)\n",
    "X_test_scaled = scaler_limpio9_condummys.transform(X_test)\n",
    "\n",
    "kf = KFold(n_splits=5, shuffle=True, random_state=12)"
   ]
  },
  {
   "cell_type": "code",
   "execution_count": null,
   "metadata": {},
   "outputs": [],
   "source": [
    "lm_lasso =  linear_model.LassoCV(alphas=np.linspace(0.01,100, 1000), cv=kf, normalize=True)\n",
    "\n",
    "reg_lineal_lasso = lm_lasso.fit(X_train_scaled, np.array(y_train).ravel())\n",
    "\n",
    "score_lasso_precio = reg_lineal_lasso.score(X_test_scaled, np.array(y_test).ravel() )\n",
    "\n",
    "print('Score del modelo Lasso:', score_lasso_precio)"
   ]
  },
  {
   "cell_type": "markdown",
   "metadata": {},
   "source": [
    "## Podemos probar aplicando transformaciones a la variable `price_usd_per_m2` para ver si mejora el R2."
   ]
  },
  {
   "cell_type": "markdown",
   "metadata": {},
   "source": [
    "### Probemos trasformando la variable \"y\"=`price_usd_per_m2` con logaritmos "
   ]
  },
  {
   "cell_type": "code",
   "execution_count": null,
   "metadata": {},
   "outputs": [],
   "source": [
    "df_properati_limpio9_CABA_con_dummys.columns"
   ]
  },
  {
   "cell_type": "code",
   "execution_count": null,
   "metadata": {},
   "outputs": [],
   "source": [
    "price_usd_per_m2_log =np.log(df_properati_limpio9_CABA_con_dummys.price_usd_per_m2)\n",
    "df_properati_limpio9_CABA_con_dummys_log= df_properati_limpio9_CABA_con_dummys.copy()\n",
    "df_properati_limpio9_CABA_con_dummys_log[\"price_usd_per_m2_log\"]= price_usd_per_m2_log"
   ]
  },
  {
   "cell_type": "code",
   "execution_count": null,
   "metadata": {},
   "outputs": [],
   "source": [
    "a4_dims = (11.7,8.3)\n",
    "fig, ax = plt.subplots(figsize=a4_dims)\n",
    "sns.distplot(df_properati_limpio9_CABA_con_dummys_log[\"price_usd_per_m2_log\"],color='red')"
   ]
  },
  {
   "cell_type": "code",
   "execution_count": null,
   "metadata": {},
   "outputs": [],
   "source": [
    "fig, ax = plt.subplots(figsize=a4_dims)\n",
    "sns.distplot(df_properati_limpio9_CABA_con_dummys_log[\"price_usd_per_m2\"], color= 'red')"
   ]
  },
  {
   "cell_type": "code",
   "execution_count": null,
   "metadata": {},
   "outputs": [],
   "source": [
    "df_properati_limpio9_CABA_con_dummys_log.columns"
   ]
  },
  {
   "cell_type": "code",
   "execution_count": null,
   "metadata": {},
   "outputs": [],
   "source": [
    "lm_limpio9_condummys_log, scaler_limpio9_condummys_log = grupo_4_etapa2(df_properati_limpio9_CABA_con_dummys_log,['surface_total_in_m2', 'amenities', 'piscina', 'cochera',\n",
    "       'a_estrenar', 'apartment', 'house', 'store', 'Agronomía', 'Almagro',\n",
    "       'Balvanera', 'Barracas', 'Barrio Norte', 'Belgrano', 'Boca', 'Boedo',\n",
    "       'Caballito', 'Catalinas', 'Centro / Microcentro', 'Chacarita',\n",
    "       'Coghlan', 'Colegiales', 'Congreso', 'Constitución', 'Flores',\n",
    "       'Floresta', 'Las Cañitas', 'Liniers', 'Mataderos', 'Monserrat',\n",
    "       'Monte Castro', 'Nuñez', 'Once', 'Palermo', 'Palermo Chico',\n",
    "       'Palermo Hollywood', 'Palermo Soho', 'Palermo Viejo',\n",
    "       'Parque Avellaneda', 'Parque Centenario', 'Parque Chacabuco',\n",
    "       'Parque Chas', 'Parque Patricios', 'Paternal', 'Pompeya',\n",
    "       'Puerto Madero', 'Recoleta', 'Retiro', 'Saavedra', 'San Cristobal',\n",
    "       'San Nicolás', 'San Telmo', 'Tribunales', 'Velez Sarsfield',\n",
    "       'Versalles', 'Villa Crespo', 'Villa Devoto', 'Villa General Mitre',\n",
    "       'Villa Lugano', 'Villa Luro', 'Villa Ortuzar', 'Villa Pueyrredón',\n",
    "       'Villa Real', 'Villa Riachuelo', 'Villa Santa Rita', 'Villa Soldati',\n",
    "       'Villa Urquiza', 'Villa del Parque'], ['price_usd_per_m2_log'] )"
   ]
  },
  {
   "cell_type": "markdown",
   "metadata": {},
   "source": [
    "Tambien probamos aplicando sqrt y vemos que el R2 es casi el mismo."
   ]
  },
  {
   "cell_type": "markdown",
   "metadata": {},
   "source": [
    "### Probemos con Box-Cox"
   ]
  },
  {
   "cell_type": "code",
   "execution_count": null,
   "metadata": {},
   "outputs": [],
   "source": [
    "from scipy import stats"
   ]
  },
  {
   "cell_type": "code",
   "execution_count": null,
   "metadata": {},
   "outputs": [],
   "source": [
    "x=stats.boxcox(df_properati_limpio9_CABA_con_dummys.price_usd_per_m2)\n",
    "x"
   ]
  },
  {
   "cell_type": "markdown",
   "metadata": {},
   "source": [
    "Tomo el lambda que maximiza la función log-verosimilitud. `lmbda=0.09122257603211358`"
   ]
  },
  {
   "cell_type": "code",
   "execution_count": null,
   "metadata": {},
   "outputs": [],
   "source": [
    "x2=stats.boxcox(df_properati_limpio9_CABA_con_dummys.price_usd_per_m2, lmbda=0.09122257603211358)\n",
    "x2.shape"
   ]
  },
  {
   "cell_type": "code",
   "execution_count": null,
   "metadata": {},
   "outputs": [],
   "source": [
    "price_usd_per_m2_BCox= stats.boxcox(df_properati_limpio9_CABA_con_dummys.price_usd_per_m2, lmbda=0.09122257603211358)\n",
    "df_properati_limpio9_CABA_con_dummys_BCox= df_properati_limpio9_CABA_con_dummys.copy()\n",
    "df_properati_limpio9_CABA_con_dummys_BCox[\"price_usd_per_m2_BCox\"]= price_usd_per_m2_BCox"
   ]
  },
  {
   "cell_type": "code",
   "execution_count": null,
   "metadata": {},
   "outputs": [],
   "source": [
    "fig, ax = plt.subplots(figsize=a4_dims)\n",
    "sns.distplot(df_properati_limpio9_CABA_con_dummys_BCox[\"price_usd_per_m2_BCox\"],color='red')"
   ]
  },
  {
   "cell_type": "code",
   "execution_count": null,
   "metadata": {},
   "outputs": [],
   "source": [
    "lm_limpio9_condummys_BCox, scaler_limpio9_condummys_BCox = grupo_4_etapa2(df_properati_limpio9_CABA_con_dummys_BCox,['surface_total_in_m2', 'amenities', 'piscina', 'cochera',\n",
    "       'a_estrenar', 'apartment', 'house', 'store', 'Agronomía', 'Almagro',\n",
    "       'Balvanera', 'Barracas', 'Barrio Norte', 'Belgrano', 'Boca', 'Boedo',\n",
    "       'Caballito', 'Catalinas', 'Centro / Microcentro', 'Chacarita',\n",
    "       'Coghlan', 'Colegiales', 'Congreso', 'Constitución', 'Flores',\n",
    "       'Floresta', 'Las Cañitas', 'Liniers', 'Mataderos', 'Monserrat',\n",
    "       'Monte Castro', 'Nuñez', 'Once', 'Palermo', 'Palermo Chico',\n",
    "       'Palermo Hollywood', 'Palermo Soho', 'Palermo Viejo',\n",
    "       'Parque Avellaneda', 'Parque Centenario', 'Parque Chacabuco',\n",
    "       'Parque Chas', 'Parque Patricios', 'Paternal', 'Pompeya',\n",
    "       'Puerto Madero', 'Recoleta', 'Retiro', 'Saavedra', 'San Cristobal',\n",
    "       'San Nicolás', 'San Telmo', 'Tribunales', 'Velez Sarsfield',\n",
    "       'Versalles', 'Villa Crespo', 'Villa Devoto', 'Villa General Mitre',\n",
    "       'Villa Lugano', 'Villa Luro', 'Villa Ortuzar', 'Villa Pueyrredón',\n",
    "       'Villa Real', 'Villa Riachuelo', 'Villa Santa Rita', 'Villa Soldati',\n",
    "       'Villa Urquiza', 'Villa del Parque'], ['price_usd_per_m2_BCox'] )"
   ]
  },
  {
   "cell_type": "markdown",
   "metadata": {},
   "source": [
    "Estos valores de R2 podrian considerarse bastante mejor teniendo en cuenta desde donde partimos. Ahora toca el turno de ver con regularizacion"
   ]
  },
  {
   "cell_type": "markdown",
   "metadata": {},
   "source": [
    "## Ridge"
   ]
  },
  {
   "cell_type": "code",
   "execution_count": null,
   "metadata": {},
   "outputs": [],
   "source": [
    "df = df_properati_limpio9_CABA_con_dummys.copy()\n",
    "var_x = ['surface_total_in_m2', 'amenities', 'piscina', 'cochera',\n",
    "       'a_estrenar', 'apartment', 'house', 'store', 'Agronomía', 'Almagro',\n",
    "       'Balvanera', 'Barracas', 'Barrio Norte', 'Belgrano', 'Boca', 'Boedo',\n",
    "       'Caballito', 'Catalinas', 'Centro / Microcentro', 'Chacarita',\n",
    "       'Coghlan', 'Colegiales', 'Congreso', 'Constitución', 'Flores',\n",
    "       'Floresta', 'Las Cañitas', 'Liniers', 'Mataderos', 'Monserrat',\n",
    "       'Monte Castro', 'Nuñez', 'Once', 'Palermo', 'Palermo Chico',\n",
    "       'Palermo Hollywood', 'Palermo Soho', 'Palermo Viejo',\n",
    "       'Parque Avellaneda', 'Parque Centenario', 'Parque Chacabuco',\n",
    "       'Parque Chas', 'Parque Patricios', 'Paternal', 'Pompeya',\n",
    "       'Puerto Madero', 'Recoleta', 'Retiro', 'Saavedra', 'San Cristobal',\n",
    "       'San Nicolás', 'San Telmo', 'Tribunales', 'Velez Sarsfield',\n",
    "       'Versalles', 'Villa Crespo', 'Villa Devoto', 'Villa General Mitre',\n",
    "       'Villa Lugano', 'Villa Luro', 'Villa Ortuzar', 'Villa Pueyrredón',\n",
    "       'Villa Real', 'Villa Riachuelo', 'Villa Santa Rita', 'Villa Soldati',\n",
    "       'Villa Urquiza', 'Villa del Parque']\n",
    "var_y = ['price_usd_per_m2']\n",
    "\n",
    "X = df[var_x]\n",
    "y=  df[var_y]\n",
    "\n",
    "X_train, X_test, y_train, y_test = train_test_split(X, y, test_size=0.30, random_state=53)\n",
    "\n",
    "X_train_scaled = scaler_limpio9_condummys.transform(X_train)\n",
    "X_test_scaled = scaler_limpio9_condummys.transform(X_test)\n",
    "\n",
    "kf = KFold(n_splits=5, shuffle=True, random_state=12)\n",
    "\n",
    "lm_ridge =  linear_model.RidgeCV(alphas= np.linspace(0.1, 1, 100), cv=kf, normalize=True, scoring='r2')\n",
    "\n",
    "reg_lineal_ridge = lm_ridge.fit(X_train_scaled, y_train)\n",
    "reg_lineal_ridge"
   ]
  },
  {
   "cell_type": "code",
   "execution_count": null,
   "metadata": {},
   "outputs": [],
   "source": [
    "reg_lineal_ridge.alpha_"
   ]
  },
  {
   "cell_type": "code",
   "execution_count": null,
   "metadata": {},
   "outputs": [],
   "source": [
    "score_ridge_precio = reg_lineal_ridge.score(X_test_scaled, y_test)\n",
    "\n",
    "lm_limpio9_condummys, scaler_limpio9_condummys\n",
    "\n",
    "print('Score del modelo Ridge:', score_ridge_precio)\n",
    "print(f'Score del modelo lineal {lm_limpio9_condummys.score(X_test_scaled,y_test)}')"
   ]
  },
  {
   "cell_type": "code",
   "execution_count": null,
   "metadata": {},
   "outputs": [],
   "source": [
    "reg_lineal_ridge.intercept_"
   ]
  },
  {
   "cell_type": "code",
   "execution_count": null,
   "metadata": {},
   "outputs": [],
   "source": [
    "lm_limpio9_condummys.intercept_"
   ]
  },
  {
   "cell_type": "code",
   "execution_count": null,
   "metadata": {},
   "outputs": [],
   "source": [
    "X_train_scaled.shape"
   ]
  },
  {
   "cell_type": "markdown",
   "metadata": {},
   "source": [
    "## Lasso"
   ]
  },
  {
   "cell_type": "code",
   "execution_count": null,
   "metadata": {},
   "outputs": [],
   "source": [
    "guille = np.array(y_train).reshape(-1,1)\n",
    "guille\n",
    "\n",
    "guille2 = np.array(y_test).reshape(-1,1)\n",
    "guille2.ravel()\n"
   ]
  },
  {
   "cell_type": "code",
   "execution_count": null,
   "metadata": {},
   "outputs": [],
   "source": [
    "lm_lasso =  linear_model.LassoCV(alphas=np.linspace(0.01,100, 1000), cv=kf, normalize=True)\n",
    "\n",
    "reg_lineal_lasso = lm_lasso.fit(X_train_scaled, guille.ravel())\n",
    "\n",
    "score_lasso_precio = reg_lineal_lasso.score(X_test_scaled, guille2.ravel())\n",
    "\n",
    "print('Score del modelo Lasso:', score_lasso_precio)"
   ]
  },
  {
   "cell_type": "markdown",
   "metadata": {},
   "source": [
    "# Vemos los parámetros con StatModels\n"
   ]
  },
  {
   "cell_type": "code",
   "execution_count": null,
   "metadata": {},
   "outputs": [],
   "source": [
    "var_x = ['surface_total_in_m2', 'amenities', 'piscina', 'cochera',\n",
    "       'a_estrenar', 'apartment', 'house', 'store', 'Agronomía', 'Almagro',\n",
    "       'Balvanera', 'Barracas', 'Barrio Norte', 'Belgrano', 'Boca', 'Boedo',\n",
    "       'Caballito', 'Catalinas', 'Centro / Microcentro', 'Chacarita',\n",
    "       'Coghlan', 'Colegiales', 'Congreso', 'Constitución', 'Flores',\n",
    "       'Floresta', 'Las Cañitas', 'Liniers', 'Mataderos', 'Monserrat',\n",
    "       'Monte Castro', 'Nuñez', 'Once', 'Palermo', 'Palermo Chico',\n",
    "       'Palermo Hollywood', 'Palermo Soho', 'Palermo Viejo',\n",
    "       'Parque Avellaneda', 'Parque Centenario', 'Parque Chacabuco',\n",
    "       'Parque Chas', 'Parque Patricios', 'Paternal', 'Pompeya',\n",
    "       'Puerto Madero', 'Recoleta', 'Retiro', 'Saavedra', 'San Cristobal',\n",
    "       'San Nicolás', 'San Telmo', 'Tribunales', 'Velez Sarsfield',\n",
    "       'Versalles', 'Villa Crespo', 'Villa Devoto', 'Villa General Mitre',\n",
    "       'Villa Lugano', 'Villa Luro', 'Villa Ortuzar', 'Villa Pueyrredón',\n",
    "       'Villa Real', 'Villa Riachuelo', 'Villa Santa Rita', 'Villa Soldati',\n",
    "       'Villa Urquiza', 'Villa del Parque']\n",
    "var_y = ['price_usd_per_m2']\n",
    "df = df_properati_limpio9_CABA_con_dummys.copy()\n",
    "\n",
    "\n",
    "X = df[var_x]\n",
    "y=  df[var_y]\n",
    "\n",
    "print(X.shape)\n",
    "print(y.shape)\n",
    "       \n",
    "X_train, X_test, y_train, y_test = train_test_split(X, y, test_size=0.30,  random_state=53)\n",
    "scale = StandardScaler()\n",
    "X_train_scaled_ori = scale.fit_transform(X_train) \n",
    "X_test_scaled_ori  = scale.transform(X_test) \n",
    "\n",
    "print(X_train_scaled_ori.shape)\n",
    "print(X_test_scaled_ori.shape)\n",
    "\n",
    "\n",
    "X_train_scaled_ori_1 = sm.add_constant(X_train_scaled_ori)\n",
    "# X_test_scaled_ori_1 = sm.add_constant(X_test_scaled_ori)\n",
    "X_test_scaled_ori_1 = sm.add_constant(X_test_scaled_ori, has_constant=\"add\")\n",
    "\n",
    "\n",
    "print(X_train_scaled_ori_1.shape)\n",
    "print(X_test_scaled_ori_1.shape)\n",
    "\n",
    "\n",
    "# les pongo el nombre a las columnas \n",
    "columnas = X.columns\n",
    "print(columnas.shape)\n",
    "columnas = np.insert(columnas, 0 , 'constant')\n",
    "X_train_scaled =  pd.DataFrame(X_train_scaled_ori_1,columns=columnas)\n",
    "X_test_scaled =  pd.DataFrame(X_test_scaled_ori_1,columns=columnas)\n",
    "    \n",
    "    \n",
    "# Igualo el índice de y_train al de X_train_scaled\n",
    "y_train = y_train.reset_index().drop('index', axis=1)\n",
    "    \n",
    "model = sm.OLS(y_train, X_train_scaled).fit()\n",
    "predictions = model.predict(X_test_scaled)\n",
    "print(model.summary())"
   ]
  },
  {
   "cell_type": "markdown",
   "metadata": {},
   "source": [
    "## Aca comenzamos a tomar la muestra de 100 propiedades\n",
    "\n",
    "Tomamos un Sample de 100 propiedades que conformarian el portafolio de los inmuebles sobre los cuales vamos a tomar la decisión de vender o no vender."
   ]
  },
  {
   "cell_type": "code",
   "execution_count": null,
   "metadata": {},
   "outputs": [],
   "source": [
    "testeo = df_properati_limpio9_CABA_con_dummys.copy()\n",
    "\n",
    "#armo el sample\n",
    "prueba_pred = testeo.sample(100, random_state=2).copy()\n",
    "\n",
    "#armo los vectores para el modelo\n",
    "X = prueba_pred.drop(['property_type', 'place_name','price_usd_per_m2','priceUSD'], axis = 1)\n",
    "y = prueba_pred['price_usd_per_m2']\n",
    "\n",
    "#predigo con el modelo lineal el precio x m2\n",
    "prediccion = lm_limpio9_condummys.predict(scaler_limpio9_condummys.transform(X))\n",
    "# prediccion_Lasso = lm_lasso.predict(scale.transform(X))\n",
    "# prediccion_Ridge = lm_ridge.predict(scale.transform(X))\n",
    "\n",
    "#inserto la columna con el precio predicho\n",
    "prueba_pred.insert(4,\"precio_pred_RL\", prediccion, True)\n",
    "# prueba_pred.insert(4,\"precio_pred_Lasso\", prediccion_Lasso, True)\n",
    "# prueba_pred.insert(4,\"precio_pred_Ridge\", prediccion_Ridge, True)\n",
    "\n",
    "prueba_pred.head(50)\n"
   ]
  },
  {
   "cell_type": "markdown",
   "metadata": {},
   "source": [
    "Inserto la columna con la diferencia entre el precio publicado con el predicho en el paso anterior"
   ]
  },
  {
   "cell_type": "code",
   "execution_count": null,
   "metadata": {
    "scrolled": false
   },
   "outputs": [],
   "source": [
    "dif =prueba_pred['price_usd_per_m2'] - prueba_pred['precio_pred_RL']\n",
    "prueba_pred.insert(5,\"Dif\", dif, True)\n",
    "prueba_pred"
   ]
  },
  {
   "cell_type": "markdown",
   "metadata": {},
   "source": [
    "Acá analizamos si el precio al que se publicó es mayor al predicho siginifica que la propiedad está sobre valuada y por ende conviene vender.\n",
    "\n",
    "Para filtrarlas armamos una mascara donde el campo `'Dif'` sea mayor a cero porque `dif =prueba_pred['price_usd_per_m2'] - prueba_pred['precio_pred_RL']`"
   ]
  },
  {
   "cell_type": "code",
   "execution_count": null,
   "metadata": {},
   "outputs": [],
   "source": [
    "Prop_a_Vender = prueba_pred['Dif'] > 0\n",
    "\n",
    "Vender = prueba_pred[Prop_a_Vender]\n",
    "\n",
    "Ganancia = (Vender['Dif']*Vender['surface_total_in_m2']).sum()\n",
    "print(f'La ganancia teórica por vender las propiedades sería: {Ganancia.round(2)}')\n",
    "\n",
    "# creo el capital inicial el cual es la suma del portafolio incial de 100 propiedades\n",
    "Capital_Inicial = prueba_pred['priceUSD'].sum()\n",
    "\n",
    "# creo el vector de features y objetivo en base a todo nuestro dataset\n",
    "X_Ds = testeo.drop(['property_type', 'place_name','price_usd_per_m2','priceUSD'], axis = 1)\n",
    "y_Ds = testeo['price_usd_per_m2']\n",
    "\n",
    "# hago la predicción de todo\n",
    "prediccion_todo = lm_limpio9_condummys.predict(scaler_limpio9_condummys.transform(X_Ds))\n",
    "\n",
    "# inserto la nueva columna con el precio predicho\n",
    "testeo.insert(4,\"precio_pred_RL\", prediccion_todo, True)\n",
    "\n",
    "# inserto la columna con la diferencia entre real y predicho\n",
    "dif =testeo['price_usd_per_m2'] - testeo['precio_pred_RL']\n",
    "testeo.insert(5,\"Diferencia_RL\", dif, True)"
   ]
  },
  {
   "cell_type": "code",
   "execution_count": null,
   "metadata": {},
   "outputs": [],
   "source": [
    "\n",
    "testeo2 = testeo.copy()\n",
    "\n",
    "testeo2.sort_values(by = ['Diferencia_RL'], ascending=True, inplace=True)\n",
    "\n",
    "testeo2.reset_index(inplace=True)\n",
    "\n",
    "testeo2"
   ]
  },
  {
   "cell_type": "markdown",
   "metadata": {},
   "source": [
    "Creo la cartera de las propiedades que más diferencia tienen entre real y predicho para así elegir las que más nos conviene comprar para revender sin exceder el capital inicial que obtuvimos de nuestro sample de 100 propiedades."
   ]
  },
  {
   "cell_type": "code",
   "execution_count": null,
   "metadata": {},
   "outputs": [],
   "source": [
    "# creo una cartera vacia\n",
    "Cartera = pd.DataFrame()\n",
    "\n",
    "total = 0\n",
    "x=0\n",
    "\n",
    "# por cada propiedad en el df testeo2 voy incrementado mi gasto de capital inicial\n",
    "for i in testeo2:\n",
    "    if total < Capital_Inicial:\n",
    "        Cartera = Cartera.append(testeo2.iloc[x])\n",
    "        total += testeo2.iloc[x].priceUSD\n",
    "        x+=1\n",
    "total"
   ]
  },
  {
   "cell_type": "code",
   "execution_count": null,
   "metadata": {
    "scrolled": false
   },
   "outputs": [],
   "source": [
    "# estas son mi propiedades\n",
    "Cartera"
   ]
  },
  {
   "cell_type": "code",
   "execution_count": null,
   "metadata": {},
   "outputs": [],
   "source": [
    "Cartera.place_name.value_counts()"
   ]
  },
  {
   "cell_type": "markdown",
   "metadata": {},
   "source": [
    "# A partir de aquí son solo coneptos\n",
    "\n",
    "## Estuvimos probando otras formas de armar el regresor incluyendo o quitando otros features"
   ]
  },
  {
   "cell_type": "markdown",
   "metadata": {},
   "source": [
    "Veamos que ocurre si sacamos algunas zonas con muy pocas observaciones"
   ]
  },
  {
   "cell_type": "code",
   "execution_count": null,
   "metadata": {},
   "outputs": [],
   "source": [
    "df_properati_limpio9_CABA_con_dummys_log.place_name.value_counts()[df_properati_limpio9_CABA_con_dummys_log.place_name.value_counts()<50]#.index"
   ]
  },
  {
   "cell_type": "markdown",
   "metadata": {},
   "source": [
    "Villa Soldati(1) y Pompeya (19) se podrian unificar\n",
    "\n",
    "Villa Riachuelo (2) podria unificarse con Villa Lugano (90)\n",
    "\n",
    "Catalinas (1) podria unificarse con Retiro (154)\n"
   ]
  },
  {
   "cell_type": "markdown",
   "metadata": {},
   "source": [
    "### Pruebo sin Soldati, VRiachuelo y Catalinas"
   ]
  },
  {
   "cell_type": "code",
   "execution_count": null,
   "metadata": {},
   "outputs": [],
   "source": [
    "lm_sinbarrios, scaler_sinbarrios = grupo_4_etapa2(df_properati_limpio9_CABA_con_dummys_log,['surface_total_in_m2', 'amenities', 'piscina', 'cochera',\n",
    "       'a_estrenar', 'apartment', 'house', 'store', 'Agronomía', 'Almagro',\n",
    "       'Balvanera', 'Barracas', 'Barrio Norte', 'Belgrano', 'Boca', 'Boedo',\n",
    "       'Caballito', 'Centro / Microcentro', 'Chacarita',\n",
    "       'Coghlan', 'Colegiales', 'Congreso', 'Constitución', 'Flores',\n",
    "       'Floresta', 'Las Cañitas', 'Liniers', 'Mataderos', 'Monserrat',\n",
    "       'Monte Castro', 'Nuñez', 'Once', 'Palermo', 'Palermo Chico',\n",
    "       'Palermo Hollywood', 'Palermo Soho', 'Palermo Viejo',\n",
    "       'Parque Avellaneda', 'Parque Centenario', 'Parque Chacabuco',\n",
    "       'Parque Chas', 'Parque Patricios', 'Paternal', 'Pompeya',\n",
    "       'Puerto Madero', 'Recoleta', 'Retiro', 'Saavedra', 'San Cristobal',\n",
    "       'San Nicolás', 'San Telmo', 'Tribunales', 'Velez Sarsfield',\n",
    "       'Versalles', 'Villa Crespo', 'Villa Devoto', 'Villa General Mitre',\n",
    "       'Villa Lugano', 'Villa Luro', 'Villa Ortuzar', 'Villa Pueyrredón',\n",
    "       'Villa Real', 'Villa Santa Rita',\n",
    "       'Villa Urquiza', 'Villa del Parque'], ['price_usd_per_m2_log'] )"
   ]
  },
  {
   "cell_type": "code",
   "execution_count": null,
   "metadata": {},
   "outputs": [],
   "source": []
  },
  {
   "cell_type": "markdown",
   "metadata": {},
   "source": [
    "### Vuelvo a analizar el DF con rooms"
   ]
  },
  {
   "cell_type": "code",
   "execution_count": null,
   "metadata": {},
   "outputs": [],
   "source": [
    "df_properati_limpio9_CABA_con_dummys.columns"
   ]
  },
  {
   "cell_type": "code",
   "execution_count": null,
   "metadata": {},
   "outputs": [],
   "source": [
    "df_properati_limpio3_CABA.columns"
   ]
  },
  {
   "cell_type": "code",
   "execution_count": null,
   "metadata": {
    "scrolled": false
   },
   "outputs": [],
   "source": [
    "df_properati_limpio10_CABA_con_dummys=pd.concat([df_properati_limpio9_CABA_con_dummys, df_properati_limpio3_CABA.rooms], axis=1)\n",
    "df_new= df_properati_limpio10_CABA_con_dummys.copy()"
   ]
  },
  {
   "cell_type": "code",
   "execution_count": null,
   "metadata": {},
   "outputs": [],
   "source": [
    "df_new.info()"
   ]
  },
  {
   "cell_type": "code",
   "execution_count": null,
   "metadata": {},
   "outputs": [],
   "source": [
    "indice_drop_null_rooms=df_new[df_new.rooms.isnull()].index"
   ]
  },
  {
   "cell_type": "code",
   "execution_count": null,
   "metadata": {},
   "outputs": [],
   "source": [
    "df_new_con_rooms=df_new.drop(indice_drop_null_rooms, axis=0)\n",
    "df_new_con_rooms.info()"
   ]
  },
  {
   "cell_type": "markdown",
   "metadata": {},
   "source": [
    "Tomamos el index de cualquier barrio para borrar los null de rooms, por ejemplo Saavedra"
   ]
  },
  {
   "cell_type": "code",
   "execution_count": null,
   "metadata": {},
   "outputs": [],
   "source": [
    "indice_drop_null_Saavedra=df_new_con_rooms[df_new_con_rooms.Saavedra.isnull()].index\n",
    "indice_drop_null_Saavedra"
   ]
  },
  {
   "cell_type": "code",
   "execution_count": null,
   "metadata": {},
   "outputs": [],
   "source": [
    "df_new_con_rooms2=df_new_con_rooms.drop(indice_drop_null_Saavedra, axis=0)\n",
    "df_new_con_rooms2.info()"
   ]
  },
  {
   "cell_type": "code",
   "execution_count": null,
   "metadata": {},
   "outputs": [],
   "source": [
    "df_new_con_rooms2.shape"
   ]
  },
  {
   "cell_type": "code",
   "execution_count": null,
   "metadata": {},
   "outputs": [],
   "source": [
    "sns.scatterplot(x=df_new_con_rooms2.surface_total_in_m2, y=df_new_con_rooms2.price_usd_per_m2, hue=df_new_con_rooms2.property_type)"
   ]
  },
  {
   "cell_type": "code",
   "execution_count": null,
   "metadata": {},
   "outputs": [],
   "source": [
    "df_new_con_rooms2.columns"
   ]
  },
  {
   "cell_type": "code",
   "execution_count": null,
   "metadata": {},
   "outputs": [],
   "source": [
    "lm_conrooms, scaler_conrooms = grupo_4_etapa2(df_new_con_rooms2, ['surface_total_in_m2','amenities', 'piscina', 'cochera','a_estrenar', 'apartment', \n",
    "                                    'house', 'store', \n",
    "        'Agronomía', 'Almagro','Balvanera', 'Barracas', 'Barrio Norte', 'Belgrano', 'Boca', 'Boedo','Caballito', \n",
    "        'Catalinas','Centro / Microcentro', 'Chacarita','Coghlan', 'Colegiales', 'Congreso', 'Constitución', 'Flores',\n",
    "        'Floresta', 'Las Cañitas', 'Liniers', 'Mataderos', 'Monserrat','Monte Castro', 'Nuñez', 'Once', 'Palermo', \n",
    "        'Palermo Chico','Palermo Hollywood', 'Palermo Soho', 'Palermo Viejo','Parque Avellaneda', 'Parque Centenario', \n",
    "        'Parque Chacabuco','Parque Chas', 'Parque Patricios', 'Paternal', 'Pompeya','Puerto Madero', 'Recoleta', \n",
    "        'Retiro', 'Saavedra', 'San Cristobal','San Nicolás', 'San Telmo', 'Tribunales', 'Velez Sarsfield',\n",
    "        'Versalles', 'Villa Crespo', 'Villa Devoto', 'Villa General Mitre','Villa Lugano', 'Villa Luro', \n",
    "        'Villa Ortuzar', 'Villa Pueyrredón','Villa Real', 'Villa Riachuelo', 'Villa Santa Rita', 'Villa Soldati',\n",
    "        'Villa Urquiza', 'Villa del Parque', 'rooms'], ['price_usd_per_m2'])"
   ]
  }
 ],
 "metadata": {
  "kernelspec": {
   "display_name": "Python 3",
   "language": "python",
   "name": "python3"
  },
  "language_info": {
   "codemirror_mode": {
    "name": "ipython",
    "version": 3
   },
   "file_extension": ".py",
   "mimetype": "text/x-python",
   "name": "python",
   "nbconvert_exporter": "python",
   "pygments_lexer": "ipython3",
   "version": "3.7.7"
  }
 },
 "nbformat": 4,
 "nbformat_minor": 4
}
